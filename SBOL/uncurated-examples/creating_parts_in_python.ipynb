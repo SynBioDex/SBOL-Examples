{
  "nbformat": 4,
  "nbformat_minor": 0,
  "metadata": {
    "colab": {
      "provenance": []
    },
    "kernelspec": {
      "name": "python3",
      "display_name": "Python 3"
    },
    "language_info": {
      "name": "python"
    }
  },
  "cells": [
    {
      "cell_type": "code",
      "execution_count": 1,
      "metadata": {
        "id": "W8VLDdZcfo6f"
      },
      "outputs": [],
      "source": [
        "pip install sbol3 --quiet\n"
      ]
    },
    {
      "cell_type": "code",
      "source": [
        "pip install sbol_utilities --quiet"
      ],
      "metadata": {
        "id": "XJCvP7Fof7XN"
      },
      "execution_count": 2,
      "outputs": []
    },
    {
      "cell_type": "code",
      "source": [
        "import sbol3\n",
        "from sbol_utilities import component"
      ],
      "metadata": {
        "id": "9X8b9BxGgECp"
      },
      "execution_count": 3,
      "outputs": []
    },
    {
      "cell_type": "markdown",
      "source": [
        "## Create a document"
      ],
      "metadata": {
        "id": "C8IgAANAm39P"
      }
    },
    {
      "cell_type": "code",
      "source": [
        "doc = sbol3.Document()\n",
        "sbol3.set_namespace('https://github.com/Gonza10V')"
      ],
      "metadata": {
        "id": "7xv4saHcgIfZ"
      },
      "execution_count": 4,
      "outputs": []
    },
    {
      "cell_type": "code",
      "source": [
        "ptet_str = \"GTCCCTCGGTACCAAATTCCAGAAAAGAGGCCTCCCGAAAGGGGGGCCTTTTTTCGTTTTGGTCCGTGCCTACTCTGGAAAATCTtccctatcagtgatagagattgacatccctatcagtgatagagatactgagcacatcagcaggacgcactgaccAGCTGTCACCGGATGTGCTTTCCGGTCTGATGAGTCCGTGAGGACGAAACAGCCTCTACAAATAATTTTGTTTAAGGCTCG\""
      ],
      "metadata": {
        "id": "DsW-4qiPgS5j"
      },
      "execution_count": 5,
      "outputs": []
    },
    {
      "cell_type": "markdown",
      "source": [
        "## Native pySBOL3"
      ],
      "metadata": {
        "id": "P3fzHFsshsjT"
      }
    },
    {
      "cell_type": "code",
      "source": [
        "ptet_seq = sbol3.Sequence('pTetR_RiboJ_seq', elements=ptet_str, encoding=sbol3.IUPAC_DNA_ENCODING)"
      ],
      "metadata": {
        "id": "kXriiXssif2K"
      },
      "execution_count": 6,
      "outputs": []
    },
    {
      "cell_type": "code",
      "source": [
        "ptet = sbol3.Component(identity='pTetR_RiboJ', types=sbol3.SBO_DNA)\n",
        "ptet.roles = [sbol3.SO_PROMOTER]\n",
        "ptet.sequences = [ptet_seq]\n",
        "ptet.description = 'BASIC - Potvin pTet (based on B-P27-pTetR-F1)'"
      ],
      "metadata": {
        "id": "OgvcPFfZglOc"
      },
      "execution_count": 7,
      "outputs": []
    },
    {
      "cell_type": "code",
      "source": [
        "doc.add([ptet, ptet_seq])"
      ],
      "metadata": {
        "colab": {
          "base_uri": "https://localhost:8080/"
        },
        "id": "tFFmKE_WmMbX",
        "outputId": "a70b93e0-95bc-4353-af2d-1f55bf65ba13"
      },
      "execution_count": 8,
      "outputs": [
        {
          "output_type": "execute_result",
          "data": {
            "text/plain": [
              "[<sbol3.component.Component at 0x7c4805980280>,\n",
              " <sbol3.sequence.Sequence at 0x7c4805b4be50>]"
            ]
          },
          "metadata": {},
          "execution_count": 8
        }
      ]
    },
    {
      "cell_type": "code",
      "source": [
        "for obj in doc.objects:\n",
        "    print(obj.identity)"
      ],
      "metadata": {
        "colab": {
          "base_uri": "https://localhost:8080/"
        },
        "id": "zCrytnBpmKFN",
        "outputId": "86f3f5f3-caaf-4414-8836-abce7925abab"
      },
      "execution_count": 9,
      "outputs": [
        {
          "output_type": "stream",
          "name": "stdout",
          "text": [
            "https://github.com/Gonza10V/pTetR_RiboJ\n",
            "https://github.com/Gonza10V/pTetR_RiboJ_seq\n"
          ]
        }
      ]
    },
    {
      "cell_type": "code",
      "source": [
        "ptet.sequences[0].lookup().elements"
      ],
      "metadata": {
        "colab": {
          "base_uri": "https://localhost:8080/",
          "height": 53
        },
        "id": "3J_bH-rhkrSz",
        "outputId": "f3ddc9af-010b-438b-d1b7-de7fa4ff2c3e"
      },
      "execution_count": 10,
      "outputs": [
        {
          "output_type": "execute_result",
          "data": {
            "text/plain": [
              "'GTCCCTCGGTACCAAATTCCAGAAAAGAGGCCTCCCGAAAGGGGGGCCTTTTTTCGTTTTGGTCCGTGCCTACTCTGGAAAATCTtccctatcagtgatagagattgacatccctatcagtgatagagatactgagcacatcagcaggacgcactgaccAGCTGTCACCGGATGTGCTTTCCGGTCTGATGAGTCCGTGAGGACGAAACAGCCTCTACAAATAATTTTGTTTAAGGCTCG'"
            ],
            "application/vnd.google.colaboratory.intrinsic+json": {
              "type": "string"
            }
          },
          "metadata": {},
          "execution_count": 10
        }
      ]
    },
    {
      "cell_type": "markdown",
      "source": [
        "## High level components using SBOL-utilities"
      ],
      "metadata": {
        "id": "A2V2EhtyglAM"
      }
    },
    {
      "cell_type": "code",
      "source": [
        "doc.clear()"
      ],
      "metadata": {
        "id": "k1Ix_sbLmCm8"
      },
      "execution_count": 11,
      "outputs": []
    },
    {
      "cell_type": "code",
      "source": [
        "for obj in doc.objects:\n",
        "    print(obj.identity)"
      ],
      "metadata": {
        "id": "Pu8tnVrYmG4s"
      },
      "execution_count": 12,
      "outputs": []
    },
    {
      "cell_type": "code",
      "source": [
        "ptet, ptet_seq = component.promoter(identity='pTetR_RiboJ', sequence=ptet_str , description='BASIC - Potvin pTet (based on B-P27-pTetR-F1)')"
      ],
      "metadata": {
        "id": "CHL4fI-DgQpD"
      },
      "execution_count": 13,
      "outputs": []
    },
    {
      "cell_type": "code",
      "source": [
        "doc.add([ptet, ptet_seq])"
      ],
      "metadata": {
        "colab": {
          "base_uri": "https://localhost:8080/"
        },
        "id": "7MxL0uCgjY6k",
        "outputId": "101cc17d-00eb-4082-f680-04a5d503efc1"
      },
      "execution_count": 14,
      "outputs": [
        {
          "output_type": "execute_result",
          "data": {
            "text/plain": [
              "[<sbol3.component.Component at 0x7c48059816c0>,\n",
              " <sbol3.sequence.Sequence at 0x7c4805981330>]"
            ]
          },
          "metadata": {},
          "execution_count": 14
        }
      ]
    },
    {
      "cell_type": "code",
      "source": [
        "ptet.sequences[0].lookup().elements"
      ],
      "metadata": {
        "colab": {
          "base_uri": "https://localhost:8080/",
          "height": 53
        },
        "id": "AU2PHJrsl5Me",
        "outputId": "44d172f3-409b-4420-8bf9-2e2807f8554a"
      },
      "execution_count": 15,
      "outputs": [
        {
          "output_type": "execute_result",
          "data": {
            "text/plain": [
              "'GTCCCTCGGTACCAAATTCCAGAAAAGAGGCCTCCCGAAAGGGGGGCCTTTTTTCGTTTTGGTCCGTGCCTACTCTGGAAAATCTtccctatcagtgatagagattgacatccctatcagtgatagagatactgagcacatcagcaggacgcactgaccAGCTGTCACCGGATGTGCTTTCCGGTCTGATGAGTCCGTGAGGACGAAACAGCCTCTACAAATAATTTTGTTTAAGGCTCG'"
            ],
            "application/vnd.google.colaboratory.intrinsic+json": {
              "type": "string"
            }
          },
          "metadata": {},
          "execution_count": 15
        }
      ]
    },
    {
      "cell_type": "code",
      "source": [
        "for obj in doc.objects:\n",
        "    print(obj.identity)"
      ],
      "metadata": {
        "colab": {
          "base_uri": "https://localhost:8080/"
        },
        "id": "0JpxU3Q1mh8H",
        "outputId": "cb665ee8-b22d-4738-e6ea-4a7a2d49779a"
      },
      "execution_count": 16,
      "outputs": [
        {
          "output_type": "stream",
          "name": "stdout",
          "text": [
            "https://github.com/Gonza10V/pTetR_RiboJ\n",
            "https://github.com/Gonza10V/pTetR_RiboJ_seq\n"
          ]
        }
      ]
    },
    {
      "cell_type": "markdown",
      "source": [
        "Let's encode our parts in SBOL"
      ],
      "metadata": {
        "id": "ELB8jioNh8Ui"
      }
    },
    {
      "cell_type": "code",
      "source": [
        "rbs_str = 'ttgaacaccgtcTCAGGTAAGTATCAGTTGTAAatcacacaggacta'\n",
        "rbs1, rbs1_seq = component.rbs('RBS1', rbs_str, description='BASIC Linker RBS1')"
      ],
      "metadata": {
        "id": "bYblLG92iB-u"
      },
      "execution_count": 17,
      "outputs": []
    },
    {
      "cell_type": "code",
      "source": [
        "laci_str = 'GTCCatggtgaatgtgaaaccagtaacgttatacgatgtcgcagagtatgccggtgtctcttatcagaccgtttcccgcgtggtgaaccaggccagccacgtttctgcgaaaacgcgggaaaaagtggaagcggcgatggcggagctgaattacattcccaaccgcgtggcacaacaactggcgggcaaacagtcgttgctgattggcgttgccacctccagtctggccctgcacgcgccgtcgcaaattgtcgcggcgattaaatctcgcgccgatcaactgggtgccagcgtggtggtgtcgatggtagaacgaagcggcgtcgaagcctgtaaagcggcggtgcacaatcttctcgcgcaacgcgtcagtgggctgatcattaactatccgctggatgaccaggatgccattgctgtggaagctgcctgcactaatgttccggcgttatttcttgatgtctctgaccagacacccatcaacagtattattttctcccatgaagacggtacgcgactgggcgtggagcatctggtcgcattgggtcaccagcaaatcgcgctgttagcgggcccattaagttctgtctcggcgcgtctgcgtctggctggctggcataaatatctcactcgcaatcaaattcagccgatagcggaacgggaaggcgactggagtgccatgtccggttttcaacaaaccatgcaaatgctgaatgagggcatcgttcccactgcgatgctggttgccaacgatcagatggcgctgggcgcaatgcgcgccattaccgagtccgggctgcgcgttggtgcggatatctcggtagtgggatacgacgataccgaagacagctcatgttatatcccgccgttaaccaccatcaaacaggattttcgcctgctggggcaaaccagcgtggaccgcttgctgcaactctctcagggccaggcggtgaagggcaatcagctgttgcccgtctcactggtgaaaagaaaaaccaccctggcgcccaatacgcaaaccgcctctccccgcgcgttggccgattcattaatgcagctggcacgacaggtttcccgactggaaagcgggcagGGCTCG'\n",
        "laci, laci_seq = component.cds('LacI', laci_str, description='LacI Coding Sequence from Potvin-Trottier pLPT119, no stop codon')"
      ],
      "metadata": {
        "id": "ZiW2Zo08jxHg"
      },
      "execution_count": 18,
      "outputs": []
    },
    {
      "cell_type": "code",
      "source": [
        "ter_str = 'GTCCatttgtcctactcaggagagcgttcaccgacaaacaacagataaaacgaaaggcccagtctttcgactgagcctttcgttttatttgTAAGGCTCG'\n",
        "ter1, ter1_seq = component.terminator('TER1', ter_str, description='rrnB T1 terminator from Potvin-Trottier pLPT119, extra stop codon')"
      ],
      "metadata": {
        "id": "ETk71R1Uj_GW"
      },
      "execution_count": 19,
      "outputs": []
    },
    {
      "cell_type": "code",
      "source": [
        "doc.add([rbs1, rbs1_seq, laci, laci_seq, ter1, ter1_seq])"
      ],
      "metadata": {
        "colab": {
          "base_uri": "https://localhost:8080/"
        },
        "id": "1yzY0japkIYG",
        "outputId": "13f39501-50ac-42ed-8f80-d583a95750d2"
      },
      "execution_count": 20,
      "outputs": [
        {
          "output_type": "execute_result",
          "data": {
            "text/plain": [
              "[<sbol3.component.Component at 0x7c4805982a70>,\n",
              " <sbol3.sequence.Sequence at 0x7c48059827a0>,\n",
              " <sbol3.component.Component at 0x7c48059839d0>,\n",
              " <sbol3.sequence.Sequence at 0x7c48059835e0>,\n",
              " <sbol3.component.Component at 0x7c48059ac3d0>,\n",
              " <sbol3.sequence.Sequence at 0x7c4805983970>]"
            ]
          },
          "metadata": {},
          "execution_count": 20
        }
      ]
    },
    {
      "cell_type": "code",
      "source": [
        "for obj in doc.objects:\n",
        "    print(obj.identity)"
      ],
      "metadata": {
        "colab": {
          "base_uri": "https://localhost:8080/"
        },
        "id": "iLTXSdgrmkFH",
        "outputId": "0fb6aac8-4554-450e-8985-5045a0573cb9"
      },
      "execution_count": 21,
      "outputs": [
        {
          "output_type": "stream",
          "name": "stdout",
          "text": [
            "https://github.com/Gonza10V/pTetR_RiboJ\n",
            "https://github.com/Gonza10V/pTetR_RiboJ_seq\n",
            "https://github.com/Gonza10V/RBS1\n",
            "https://github.com/Gonza10V/RBS1_seq\n",
            "https://github.com/Gonza10V/LacI\n",
            "https://github.com/Gonza10V/LacI_seq\n",
            "https://github.com/Gonza10V/TER1\n",
            "https://github.com/Gonza10V/TER1_seq\n"
          ]
        }
      ]
    },
    {
      "cell_type": "code",
      "source": [
        "from google.colab import drive\n",
        "drive.mount('/content/drive/')"
      ],
      "metadata": {
        "colab": {
          "base_uri": "https://localhost:8080/"
        },
        "id": "_TF-i3PEnIbV",
        "outputId": "4e7fe2df-18b9-46a4-a162-cf0c67ff5cc6"
      },
      "execution_count": 23,
      "outputs": [
        {
          "output_type": "stream",
          "name": "stdout",
          "text": [
            "Drive already mounted at /content/drive/; to attempt to forcibly remount, call drive.mount(\"/content/drive/\", force_remount=True).\n"
          ]
        }
      ]
    },
    {
      "cell_type": "code",
      "source": [
        "ls"
      ],
      "metadata": {
        "colab": {
          "base_uri": "https://localhost:8080/"
        },
        "id": "Z64Shq8wnV6Q",
        "outputId": "9fe1f07f-2769-4091-d8f7-1456f3d01df1"
      },
      "execution_count": 24,
      "outputs": [
        {
          "output_type": "stream",
          "name": "stdout",
          "text": [
            "\u001b[0m\u001b[01;34mdrive\u001b[0m/  parts_week1.xml  \u001b[01;34msample_data\u001b[0m/\n"
          ]
        }
      ]
    },
    {
      "cell_type": "markdown",
      "source": [
        "You can create a folder in your drive named IntroSynBio or a different name but do the proper change in the direction below."
      ],
      "metadata": {
        "id": "V-gvsN4Xr_0I"
      }
    },
    {
      "cell_type": "code",
      "source": [
        "cd drive/MyDrive/IntroSynBio/"
      ],
      "metadata": {
        "colab": {
          "base_uri": "https://localhost:8080/"
        },
        "id": "VDBCkhtYnbl8",
        "outputId": "4a5eb6b2-51ea-455d-909c-ea66e420f47a"
      },
      "execution_count": 25,
      "outputs": [
        {
          "output_type": "stream",
          "name": "stdout",
          "text": [
            "/content/drive/MyDrive/IntroSynBio\n"
          ]
        }
      ]
    },
    {
      "cell_type": "code",
      "source": [
        "from sbol_utilities.conversion import convert3to2"
      ],
      "metadata": {
        "id": "leklQC4YqU7j"
      },
      "execution_count": 30,
      "outputs": []
    },
    {
      "cell_type": "code",
      "source": [
        "doc2 = convert3to2(doc)"
      ],
      "metadata": {
        "id": "bXKi9iVzqhkT"
      },
      "execution_count": 31,
      "outputs": []
    },
    {
      "cell_type": "code",
      "source": [
        "doc2.write('parts_week1.xml')"
      ],
      "metadata": {
        "colab": {
          "base_uri": "https://localhost:8080/",
          "height": 35
        },
        "id": "PnkPtzgWmmCT",
        "outputId": "036d9332-b095-4143-9990-c057d9edc80a"
      },
      "execution_count": 33,
      "outputs": [
        {
          "output_type": "execute_result",
          "data": {
            "text/plain": [
              "'Valid.'"
            ],
            "application/vnd.google.colaboratory.intrinsic+json": {
              "type": "string"
            }
          },
          "metadata": {},
          "execution_count": 33
        }
      ]
    },
    {
      "cell_type": "markdown",
      "source": [
        "Check your IntroSynBio folder, and upload the file to SynBioHub"
      ],
      "metadata": {
        "id": "kIiQdYwJr4yI"
      }
    },
    {
      "cell_type": "code",
      "source": [],
      "metadata": {
        "id": "ofOiu-vFvv6X"
      },
      "execution_count": null,
      "outputs": []
    }
  ]
}