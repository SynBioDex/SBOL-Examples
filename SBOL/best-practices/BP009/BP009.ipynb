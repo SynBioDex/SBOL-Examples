{
 "cells": [
  {
   "cell_type": "markdown",
   "metadata": {},
   "source": [
    "# BP009 section 2 Media, Inducers, and Other Reagents"
   ]
  },
  {
   "cell_type": "code",
   "execution_count": 14,
   "metadata": {},
   "outputs": [],
   "source": [
    "import sbol3\n",
    "import tyto\n",
    "from sbol_utilities.component import media, functional_component\n",
    "from sbol_utilities.sbol_diff import doc_diff   "
   ]
  },
  {
   "cell_type": "markdown",
   "metadata": {},
   "source": [
    "## Media recipe"
   ]
  },
  {
   "cell_type": "code",
   "execution_count": 9,
   "metadata": {},
   "outputs": [
    {
     "name": "stderr",
     "output_type": "stream",
     "text": [
      "/Users/gonzalovidal/opt/anaconda3/envs/LOICA_FlapJack/lib/python3.7/site-packages/sbol3/object.py:70: UserWarning: Using a default namespace. To set a namespace use set_namespace()\n",
      "  warnings.warn('Using a default namespace.'\n"
     ]
    }
   ],
   "source": [
    "peptone = sbol3.Component('Bacto_Peptone', tyto.SBO.functional_entity, name='Bacto_Peptone',\n",
    "                                  derived_from=['https://www.thermofisher.com/order/catalog/product/211820'])\n",
    "nacl = sbol3.Component('NaCl', tyto.SBO.functional_entity, name='NaCl',\n",
    "                        derived_from=['https://www.sigmaaldrich.com/AU/en/product/sigald/s9888'])\n",
    "yeast_extract = sbol3.Component('Yeast_Extract', tyto.SBO.functional_entity, name='Yeast_Extract',\n",
    "                                derived_from=['https://www.thermofisher.com/order/catalog/product/212720'])\n",
    "\n",
    "recipe = {\n",
    "    peptone: [10, tyto.OM.gram],\n",
    "    nacl: [5, tyto.OM.gram],\n",
    "    yeast_extract: [5, tyto.OM.gram]\n",
    "}\n",
    "\n",
    "test_description = 'test'"
   ]
  },
  {
   "cell_type": "markdown",
   "metadata": {},
   "source": [
    "## Media in pySBOL3"
   ]
  },
  {
   "cell_type": "code",
   "execution_count": 11,
   "metadata": {},
   "outputs": [
    {
     "data": {
      "text/plain": [
       "<sbol3.component.Component at 0x7fb6c45d6f90>"
      ]
     },
     "execution_count": 11,
     "metadata": {},
     "output_type": "execute_result"
    }
   ],
   "source": [
    "doc = sbol3.Document()\n",
    "sbol3.set_namespace('https://github.com/Gonza10V')\n",
    "\n",
    "media_identity = 'media'\n",
    "test_description = 'test'\n",
    "\n",
    "media_comp = functional_component(media_identity, description=test_description)\n",
    "media_comp.roles.append(tyto.NCIT.Media)\n",
    "if recipe:\n",
    "    for key, value in recipe.items():\n",
    "        if isinstance(key, sbol3.Component):\n",
    "            key = sbol3.SubComponent(key)\n",
    "        key.measures.append(sbol3.Measure(value[0], value[1]))\n",
    "        media_comp.features.append(key)\n",
    "doc.add(media_comp)"
   ]
  },
  {
   "cell_type": "markdown",
   "metadata": {},
   "source": [
    "## Media in high level scripting utility using pySBOL3"
   ]
  },
  {
   "cell_type": "code",
   "execution_count": 12,
   "metadata": {},
   "outputs": [
    {
     "data": {
      "text/plain": [
       "<sbol3.component.Component at 0x7fb6c45d0b10>"
      ]
     },
     "execution_count": 12,
     "metadata": {},
     "output_type": "execute_result"
    }
   ],
   "source": [
    "hlc_doc = sbol3.Document()\n",
    "sbol3.set_namespace('https://github.com/Gonza10V')\n",
    "\n",
    "hlc_media_comp = media(media_identity, recipe, description=test_description)\n",
    "\n",
    "hlc_doc.add(hlc_media_comp)"
   ]
  },
  {
   "cell_type": "markdown",
   "metadata": {},
   "source": [
    "You can choose any way to create your media, both create the same Component"
   ]
  },
  {
   "cell_type": "code",
   "execution_count": 15,
   "metadata": {},
   "outputs": [],
   "source": [
    "assert doc_diff(doc, hlc_doc) == 0, f'Constructor Error: {media_identity}'"
   ]
  }
 ],
 "metadata": {
  "kernelspec": {
   "display_name": "Python 3.7.11 ('LOICA_FlapJack')",
   "language": "python",
   "name": "python3"
  },
  "language_info": {
   "codemirror_mode": {
    "name": "ipython",
    "version": 3
   },
   "file_extension": ".py",
   "mimetype": "text/x-python",
   "name": "python",
   "nbconvert_exporter": "python",
   "pygments_lexer": "ipython3",
   "version": "3.7.11 (default, Jul 27 2021, 07:03:16) \n[Clang 10.0.0 ]"
  },
  "orig_nbformat": 4,
  "vscode": {
   "interpreter": {
    "hash": "d35f14161d48a89d75280e9d161142f4fd1e3c65d96fbceb3af0464f1fae0910"
   }
  }
 },
 "nbformat": 4,
 "nbformat_minor": 2
}
