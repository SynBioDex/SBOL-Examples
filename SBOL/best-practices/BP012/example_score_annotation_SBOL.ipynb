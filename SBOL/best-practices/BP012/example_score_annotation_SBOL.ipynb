{
 "cells": [
  {
   "cell_type": "code",
   "execution_count": 1,
   "metadata": {},
   "outputs": [],
   "source": [
    "import sbol3\n",
    "import tyto\n",
    "import datetime\n",
    "import uuid\n",
    "import ssl"
   ]
  },
  {
   "cell_type": "code",
   "execution_count": 2,
   "metadata": {},
   "outputs": [],
   "source": [
    "#Disable certificate verification\n",
    "ssl._create_default_https_context = ssl._create_unverified_context"
   ]
  },
  {
   "cell_type": "code",
   "execution_count": 3,
   "metadata": {},
   "outputs": [],
   "source": [
    "COMPLEXITY_SCORE_NAMESPACE = 'http://igem.org/IDT_complexity_score'\n",
    "REPORT_ACTIVITY_TYPE = 'https://github.com/SynBioDex/SBOL-utilities/compute-sequence-complexity'\n",
    "\n",
    "doc = doc = sbol3.Document()\n",
    "sbol3.set_namespace('http://igem.org/Complexity_score')"
   ]
  },
  {
   "cell_type": "code",
   "execution_count": 4,
   "metadata": {},
   "outputs": [
    {
     "data": {
      "text/plain": [
       "<sbol3.provenance.Activity at 0x2c2eccf6130>"
      ]
     },
     "execution_count": 4,
     "metadata": {},
     "output_type": "execute_result"
    }
   ],
   "source": [
    "#Create timestamp and report id\n",
    "timestamp = datetime.datetime.utcnow().isoformat(timespec='seconds') + 'Z'\n",
    "report_id = f'{COMPLEXITY_SCORE_NAMESPACE}/Complexity_Report_{timestamp.replace(\":\", \"\").replace(\"-\", \"\")}_' \\\n",
    "                f'{str(uuid.uuid4())[0:8]}'\n",
    "#Generate activity report\n",
    "report_generation = sbol3.Activity(report_id, end_time=timestamp, types=[REPORT_ACTIVITY_TYPE])\n",
    "doc.add(report_generation)"
   ]
  },
  {
   "cell_type": "code",
   "execution_count": 5,
   "metadata": {},
   "outputs": [
    {
     "data": {
      "text/plain": [
       "<sbol3.sequence.Sequence at 0x2c2eccf6760>"
      ]
     },
     "execution_count": 5,
     "metadata": {},
     "output_type": "execute_result"
    }
   ],
   "source": [
    "# Define sequence and mark it with its score\n",
    "sequence = sbol3.Sequence('GFPSequence', elements='atgnnntaa', encoding=sbol3.IUPAC_DNA_ENCODING)\n",
    "score = 10.0\n",
    "measure = sbol3.Measure(score, unit=tyto.OM.number_unit, types=[tyto.EDAM.sequence_complexity_report])\n",
    "measure.generated_by.append(report_generation)\n",
    "sequence.measures.append(measure)\n",
    "doc.add(sequence)"
   ]
  },
  {
   "cell_type": "code",
   "execution_count": 6,
   "metadata": {},
   "outputs": [
    {
     "name": "stdout",
     "output_type": "stream",
     "text": [
      "Sequence......................1\n",
      "Activity......................1\n",
      "---\n",
      "Total: .........................2\n",
      "\n",
      "http://igem.org/IDT_complexity_score/Complexity_Report_20230526T205620Z_f633299e\n",
      "http://igem.org/Complexity_score/GFPSequence\n"
     ]
    }
   ],
   "source": [
    "print(doc)\n",
    "for obj in doc.objects:\n",
    "     print(obj.identity)"
   ]
  }
 ],
 "metadata": {
  "kernelspec": {
   "display_name": "Python 3",
   "language": "python",
   "name": "python3"
  },
  "language_info": {
   "codemirror_mode": {
    "name": "ipython",
    "version": 3
   },
   "file_extension": ".py",
   "mimetype": "text/x-python",
   "name": "python",
   "nbconvert_exporter": "python",
   "pygments_lexer": "ipython3",
   "version": "3.8.3"
  }
 },
 "nbformat": 4,
 "nbformat_minor": 4
}
